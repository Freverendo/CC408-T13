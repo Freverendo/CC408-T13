{
 "cells": [
  {
   "cell_type": "code",
   "execution_count": 5,
   "id": "05f27426-cf6e-48f4-bd8c-fd6e16829bfd",
   "metadata": {},
   "outputs": [],
   "source": [
    "#CARGAR LAS BASES DE DATOS\n",
    "import os\n",
    "import pandas as pd\n",
    "import numpy as np\n",
    "from pandas import DataFrame\n",
    "os.chdir('C:/Users/Nacha/OneDrive/Desktop/Anaconda/TP4')"
   ]
  },
  {
   "cell_type": "code",
   "execution_count": 10,
   "id": "d39e3857-b816-4a73-b88f-cefb56b0aa16",
   "metadata": {},
   "outputs": [],
   "source": [
    "# PARTE 1 \n",
    "# EJERCICIO 2 \n",
    "hogar_24 = pd.read_excel('usu_hogar_T124.xlsx')\n",
    "hogar_04 = pd.read_stata('Hogar_t104.dta')\n",
    "eph_24 = pd.read_excel('usu_individual_T124.xlsx')\n",
    "eph_04 = pd.read_stata('Individual_t104.dta')"
   ]
  },
  {
   "cell_type": "code",
   "execution_count": 11,
   "id": "0329bca4-bad0-4f79-9f22-d1f1fa8a0cf1",
   "metadata": {},
   "outputs": [],
   "source": [
    "# Cambiamos los nombres de las columnas a mayúsculas\n",
    "hogar_04.columns = hogar_04.columns.str.upper()\n",
    "hogar_24.columns = hogar_24.columns.str.upper()\n",
    "eph_04.columns = eph_04.columns.str.upper()\n",
    "eph_24.columns = eph_24.columns.str.upper()"
   ]
  },
  {
   "cell_type": "code",
   "execution_count": 13,
   "id": "4b2c7090-aec9-4713-8962-df98c3cc68e1",
   "metadata": {},
   "outputs": [
    {
     "name": "stderr",
     "output_type": "stream",
     "text": [
      "C:\\Users\\Nacha\\AppData\\Local\\Temp\\ipykernel_7720\\1244940710.py:4: FutureWarning: The behavior of Series.replace (and DataFrame.replace) with CategoricalDtype is deprecated. In a future version, replace will only be used for cases that preserve the categories. To change the categories, use ser.cat.rename_categories instead.\n",
      "  hogar_04_cleaned = hogar_04_cleaned.replace({'Ciudad de Buenos Aires': 'CABA', 'Partidos del GBA': 'GBA'})\n"
     ]
    },
    {
     "name": "stdout",
     "output_type": "stream",
     "text": [
      "Datos hogares 2004 después de filtrar: 2351\n",
      "Datos hogares 2024 después de filtrar: 2545\n"
     ]
    },
    {
     "name": "stderr",
     "output_type": "stream",
     "text": [
      "C:\\Users\\Nacha\\AppData\\Local\\Temp\\ipykernel_7720\\1244940710.py:14: FutureWarning: The behavior of Series.replace (and DataFrame.replace) with CategoricalDtype is deprecated. In a future version, replace will only be used for cases that preserve the categories. To change the categories, use ser.cat.rename_categories instead.\n",
      "  eph_04_cleaned = eph_04_cleaned.replace({'Ciudad de Buenos Aires': 'CABA', 'Partidos del GBA': 'GBA'})\n"
     ]
    },
    {
     "name": "stdout",
     "output_type": "stream",
     "text": [
      "Datos indivuduales 2004 después de filtrar: 7647\n",
      "Datos individuales 2024 después de filtrar: 7051\n"
     ]
    },
    {
     "name": "stderr",
     "output_type": "stream",
     "text": [
      "C:\\Users\\Nacha\\AppData\\Local\\Temp\\ipykernel_7720\\1244940710.py:17: FutureWarning: Downcasting behavior in `replace` is deprecated and will be removed in a future version. To retain the old behavior, explicitly call `result.infer_objects(copy=False)`. To opt-in to the future behavior, set `pd.set_option('future.no_silent_downcasting', True)`\n",
      "  eph_24_cleaned = eph_24_cleaned.replace({32: 'CABA', 33: 'GBA'})\n"
     ]
    }
   ],
   "source": [
    "# Combinamos los dataframes\n",
    "# Dejamos los datos individuales que tengan solo de CABA y GBA\n",
    "hogar_04_cleaned = hogar_04.drop(hogar_04[~hogar_04['AGLOMERADO'].isin(['Ciudad de Buenos Aires', 'Partidos del GBA'])].index)\n",
    "hogar_04_cleaned = hogar_04_cleaned.replace({'Ciudad de Buenos Aires': 'CABA', 'Partidos del GBA': 'GBA'})\n",
    "\n",
    "hogar_24_cleaned = hogar_24.drop(hogar_24[~hogar_24['AGLOMERADO'].isin([32, 33])].index)\n",
    "hogar_24_cleaned = hogar_24_cleaned.replace({32: 'CABA', 33: 'GBA'})\n",
    "\n",
    "print(\"Datos hogares 2004 después de filtrar:\", hogar_04_cleaned.shape[0])\n",
    "print(\"Datos hogares 2024 después de filtrar:\", hogar_24_cleaned.shape[0])\n",
    "\n",
    "#Dejamos los datos de los hogares que tengan solo de CABA y GBA\n",
    "eph_04_cleaned = eph_04.drop(eph_04[~eph_04['AGLOMERADO'].isin(['Ciudad de Buenos Aires', 'Partidos del GBA'])].index)\n",
    "eph_04_cleaned = eph_04_cleaned.replace({'Ciudad de Buenos Aires': 'CABA', 'Partidos del GBA': 'GBA'})\n",
    "\n",
    "eph_24_cleaned = eph_24.drop(eph_24[~eph_24['AGLOMERADO'].isin([32, 33])].index)\n",
    "eph_24_cleaned = eph_24_cleaned.replace({32: 'CABA', 33: 'GBA'})\n",
    "\n",
    "print(\"Datos indivuduales 2004 después de filtrar:\", eph_04_cleaned.shape[0])\n",
    "print(\"Datos individuales 2024 después de filtrar:\", eph_24_cleaned.shape[0])"
   ]
  },
  {
   "cell_type": "code",
   "execution_count": 19,
   "id": "66c724e6-2e32-4ed4-a497-764047228c54",
   "metadata": {},
   "outputs": [
    {
     "name": "stdout",
     "output_type": "stream",
     "text": [
      "Columnas del dataframe de hogares Index(['CODUSU', 'NRO_HOGAR', 'REALIZADA', 'ANO4', 'TRIMESTRE', 'REGION',\n",
      "       'MAS_500', 'AGLOMERADO', 'PONDERA', 'IV1', 'IV1_ESP', 'IV2', 'IV3',\n",
      "       'IV3_ESP', 'IV4', 'IV5', 'IV6', 'IV7', 'IV7_ESP', 'IV8', 'IV9', 'IV10',\n",
      "       'IV11', 'IV12_1', 'IV12_2', 'IV12_3', 'II1', 'II2', 'II3', 'II3_1',\n",
      "       'II4_1', 'II4_2', 'II4_3', 'II5', 'II5_1', 'II6', 'II6_1', 'II7',\n",
      "       'II7_ESP', 'II8', 'II8_ESP', 'II9', 'V1', 'V2', 'V21', 'V22', 'V3',\n",
      "       'V4', 'V5', 'V6', 'V7', 'V8', 'V9', 'V10', 'V11', 'V12', 'V13', 'V14',\n",
      "       'V15', 'V16', 'V17', 'V18', 'V19_A', 'V19_B', 'IX_TOT', 'IX_MEN10',\n",
      "       'IX_MAYEQ10', 'ITF', 'DECIFR', 'IDECIFR', 'RDECIFR', 'GDECIFR',\n",
      "       'PDECIFR', 'ADECIFR', 'IPCF', 'DECCFR', 'IDECCFR', 'RDECCFR', 'GDECCFR',\n",
      "       'PDECCFR', 'ADECCFR', 'VII1_1', 'VII1_2', 'VII2_1', 'VII2_2', 'VII2_3',\n",
      "       'VII2_4', 'IDIMPH', 'PONDIH'],\n",
      "      dtype='object')\n",
      "Columnas del dataframe individuales Index(['CODUSU', 'NRO_HOGAR', 'COMPONENTE', 'H15', 'ANO4', 'TRIMESTRE',\n",
      "       'REGION', 'MAS_500', 'AGLOMERADO', 'PONDERA',\n",
      "       ...\n",
      "       'ADECCFR', 'PJ1_1', 'PJ2_1', 'PJ3_1', 'IDIMPP', 'CH05', 'IMPUTA',\n",
      "       'PONDIIO', 'PONDII', 'PONDIH'],\n",
      "      dtype='object', length=181)\n"
     ]
    }
   ],
   "source": [
    "# Concatenamos dataframes ya filtrados\n",
    "hogar_combined = pd.concat([hogar_04_cleaned, hogar_24_cleaned], ignore_index = True)\n",
    "print('Columnas del dataframe de hogares', hogar_combined.columns)\n",
    "eph_combined = pd.concat([eph_04_cleaned, eph_24_cleaned], ignore_index = True)\n",
    "print('Columnas del dataframe individuales', eph_combined.columns)"
   ]
  },
  {
   "cell_type": "code",
   "execution_count": 37,
   "id": "67c474b0-8e7d-4f71-81ca-cdb2c592722c",
   "metadata": {},
   "outputs": [
    {
     "name": "stdout",
     "output_type": "stream",
     "text": [
      "Columnas del dataframe combinado Index(['CODUSU', 'NRO_HOGAR', 'REALIZADA', 'ANO4', 'TRIMESTRE', 'REGION',\n",
      "       'MAS_500', 'AGLOMERADO', 'PONDERA', 'IV1',\n",
      "       ...\n",
      "       'V21_M', 'T_VI', 'PJ1_1', 'PJ2_1', 'PJ3_1', 'IDIMPP', 'CH05', 'IMPUTA',\n",
      "       'PONDIIO', 'PONDII'],\n",
      "      dtype='object', length=247)\n",
      "Datos del dataframe combinado: 14364\n"
     ]
    },
    {
     "data": {
      "text/html": [
       "<div>\n",
       "<style scoped>\n",
       "    .dataframe tbody tr th:only-of-type {\n",
       "        vertical-align: middle;\n",
       "    }\n",
       "\n",
       "    .dataframe tbody tr th {\n",
       "        vertical-align: top;\n",
       "    }\n",
       "\n",
       "    .dataframe thead th {\n",
       "        text-align: right;\n",
       "    }\n",
       "</style>\n",
       "<table border=\"1\" class=\"dataframe\">\n",
       "  <thead>\n",
       "    <tr style=\"text-align: right;\">\n",
       "      <th></th>\n",
       "      <th>CODUSU</th>\n",
       "      <th>NRO_HOGAR</th>\n",
       "      <th>REALIZADA</th>\n",
       "      <th>ANO4</th>\n",
       "      <th>TRIMESTRE</th>\n",
       "      <th>REGION</th>\n",
       "      <th>MAS_500</th>\n",
       "      <th>AGLOMERADO</th>\n",
       "      <th>PONDERA</th>\n",
       "      <th>IV1</th>\n",
       "      <th>...</th>\n",
       "      <th>V21_M</th>\n",
       "      <th>T_VI</th>\n",
       "      <th>PJ1_1</th>\n",
       "      <th>PJ2_1</th>\n",
       "      <th>PJ3_1</th>\n",
       "      <th>IDIMPP</th>\n",
       "      <th>CH05</th>\n",
       "      <th>IMPUTA</th>\n",
       "      <th>PONDIIO</th>\n",
       "      <th>PONDII</th>\n",
       "    </tr>\n",
       "  </thead>\n",
       "  <tbody>\n",
       "    <tr>\n",
       "      <th>0</th>\n",
       "      <td>125098</td>\n",
       "      <td>1.0</td>\n",
       "      <td>Sí</td>\n",
       "      <td>2004.0</td>\n",
       "      <td>1er. Trimestre</td>\n",
       "      <td>Gran Buenos Aires</td>\n",
       "      <td>S</td>\n",
       "      <td>CABA</td>\n",
       "      <td>1299.0</td>\n",
       "      <td>Departamento</td>\n",
       "      <td>...</td>\n",
       "      <td>0.0</td>\n",
       "      <td>368.0</td>\n",
       "      <td>0.0</td>\n",
       "      <td>0.0</td>\n",
       "      <td>0.0</td>\n",
       "      <td>00000</td>\n",
       "      <td>NaN</td>\n",
       "      <td>NaN</td>\n",
       "      <td>NaN</td>\n",
       "      <td>NaN</td>\n",
       "    </tr>\n",
       "    <tr>\n",
       "      <th>1</th>\n",
       "      <td>125397</td>\n",
       "      <td>1.0</td>\n",
       "      <td>Sí</td>\n",
       "      <td>2004.0</td>\n",
       "      <td>1er. Trimestre</td>\n",
       "      <td>Gran Buenos Aires</td>\n",
       "      <td>S</td>\n",
       "      <td>CABA</td>\n",
       "      <td>2018.0</td>\n",
       "      <td>Departamento</td>\n",
       "      <td>...</td>\n",
       "      <td>0.0</td>\n",
       "      <td>0.0</td>\n",
       "      <td>0.0</td>\n",
       "      <td>0.0</td>\n",
       "      <td>0.0</td>\n",
       "      <td>00000</td>\n",
       "      <td>NaN</td>\n",
       "      <td>NaN</td>\n",
       "      <td>NaN</td>\n",
       "      <td>NaN</td>\n",
       "    </tr>\n",
       "    <tr>\n",
       "      <th>2</th>\n",
       "      <td>125515</td>\n",
       "      <td>1.0</td>\n",
       "      <td>Sí</td>\n",
       "      <td>2004.0</td>\n",
       "      <td>1er. Trimestre</td>\n",
       "      <td>Gran Buenos Aires</td>\n",
       "      <td>S</td>\n",
       "      <td>CABA</td>\n",
       "      <td>1486.0</td>\n",
       "      <td>Departamento</td>\n",
       "      <td>...</td>\n",
       "      <td>0.0</td>\n",
       "      <td>440.0</td>\n",
       "      <td>0.0</td>\n",
       "      <td>0.0</td>\n",
       "      <td>0.0</td>\n",
       "      <td>00020</td>\n",
       "      <td>NaN</td>\n",
       "      <td>NaN</td>\n",
       "      <td>NaN</td>\n",
       "      <td>NaN</td>\n",
       "    </tr>\n",
       "    <tr>\n",
       "      <th>3</th>\n",
       "      <td>125558</td>\n",
       "      <td>1.0</td>\n",
       "      <td>Sí</td>\n",
       "      <td>2004.0</td>\n",
       "      <td>1er. Trimestre</td>\n",
       "      <td>Gran Buenos Aires</td>\n",
       "      <td>S</td>\n",
       "      <td>CABA</td>\n",
       "      <td>1674.0</td>\n",
       "      <td>Departamento</td>\n",
       "      <td>...</td>\n",
       "      <td>0.0</td>\n",
       "      <td>0.0</td>\n",
       "      <td>0.0</td>\n",
       "      <td>0.0</td>\n",
       "      <td>0.0</td>\n",
       "      <td>00000</td>\n",
       "      <td>NaN</td>\n",
       "      <td>NaN</td>\n",
       "      <td>NaN</td>\n",
       "      <td>NaN</td>\n",
       "    </tr>\n",
       "    <tr>\n",
       "      <th>4</th>\n",
       "      <td>125558</td>\n",
       "      <td>1.0</td>\n",
       "      <td>Sí</td>\n",
       "      <td>2004.0</td>\n",
       "      <td>1er. Trimestre</td>\n",
       "      <td>Gran Buenos Aires</td>\n",
       "      <td>S</td>\n",
       "      <td>CABA</td>\n",
       "      <td>1674.0</td>\n",
       "      <td>Departamento</td>\n",
       "      <td>...</td>\n",
       "      <td>0.0</td>\n",
       "      <td>0.0</td>\n",
       "      <td>0.0</td>\n",
       "      <td>0.0</td>\n",
       "      <td>0.0</td>\n",
       "      <td>00000</td>\n",
       "      <td>NaN</td>\n",
       "      <td>NaN</td>\n",
       "      <td>NaN</td>\n",
       "      <td>NaN</td>\n",
       "    </tr>\n",
       "  </tbody>\n",
       "</table>\n",
       "<p>5 rows × 247 columns</p>\n",
       "</div>"
      ],
      "text/plain": [
       "     CODUSU  NRO_HOGAR REALIZADA    ANO4       TRIMESTRE             REGION  \\\n",
       "0  125098          1.0        Sí  2004.0  1er. Trimestre  Gran Buenos Aires   \n",
       "1  125397          1.0        Sí  2004.0  1er. Trimestre  Gran Buenos Aires   \n",
       "2  125515          1.0        Sí  2004.0  1er. Trimestre  Gran Buenos Aires   \n",
       "3  125558          1.0        Sí  2004.0  1er. Trimestre  Gran Buenos Aires   \n",
       "4  125558          1.0        Sí  2004.0  1er. Trimestre  Gran Buenos Aires   \n",
       "\n",
       "  MAS_500 AGLOMERADO  PONDERA           IV1  ... V21_M   T_VI PJ1_1 PJ2_1  \\\n",
       "0       S       CABA   1299.0  Departamento  ...   0.0  368.0   0.0   0.0   \n",
       "1       S       CABA   2018.0  Departamento  ...   0.0    0.0   0.0   0.0   \n",
       "2       S       CABA   1486.0  Departamento  ...   0.0  440.0   0.0   0.0   \n",
       "3       S       CABA   1674.0  Departamento  ...   0.0    0.0   0.0   0.0   \n",
       "4       S       CABA   1674.0  Departamento  ...   0.0    0.0   0.0   0.0   \n",
       "\n",
       "  PJ3_1 IDIMPP CH05 IMPUTA PONDIIO PONDII  \n",
       "0   0.0  00000  NaN    NaN     NaN    NaN  \n",
       "1   0.0  00000  NaN    NaN     NaN    NaN  \n",
       "2   0.0  00020  NaN    NaN     NaN    NaN  \n",
       "3   0.0  00000  NaN    NaN     NaN    NaN  \n",
       "4   0.0  00000  NaN    NaN     NaN    NaN  \n",
       "\n",
       "[5 rows x 247 columns]"
      ]
     },
     "execution_count": 37,
     "metadata": {},
     "output_type": "execute_result"
    }
   ],
   "source": [
    "# Mergeamos dataframes en uno solo\n",
    "data = hogar_combined.merge(eph_combined) #No se si mergear sobre hogares o eph\n",
    "print('Columnas del dataframe combinado', data.columns)\n",
    "print('Datos del dataframe combinado:', data.shape[0])\n",
    "data.head()"
   ]
  },
  {
   "cell_type": "code",
   "execution_count": 38,
   "id": "60cd6ac8-028e-453a-9c23-063d9964b309",
   "metadata": {},
   "outputs": [
    {
     "name": "stdout",
     "output_type": "stream",
     "text": [
      "Cantidad de datos después de la limpieza: 13367\n"
     ]
    }
   ],
   "source": [
    "# Eliminamos las observaciones con datos que no tienen sentido \n",
    "# CH06: edad\n",
    "# PP03D: cantidad de ocupaciones \n",
    "# PP08D1: Monto por sueldos / jornales, salario familiar, horas extras, otras bonificaciones habituales y tickets, vales o similares percibidos en el mes de referencia \n",
    "# P21: MONTO DE INGRESO DE LA OCUPACIÓN PRINCIPAL \n",
    "# Convertimos las columnas relevantes a tipo numérico\n",
    "cols_to_convert = ['CH06', 'PP03D', 'PP08D1', 'P21']\n",
    "data[cols_to_convert] = data[cols_to_convert].apply(pd.to_numeric, errors='coerce')\n",
    "\n",
    "# Eliminamos las observaciones con datos que no tienen sentido \n",
    "data.drop(data[(data['CH06'] < 0) | (data['PP03D'] < 0) | (data['PP08D1'] < 0) | (data['P21'] < 0)].index, inplace=True)\n",
    "\n",
    "# Imprimimos la cantidad de datos restantes después de la limpieza\n",
    "print(\"Cantidad de datos después de la limpieza:\", len(data))"
   ]
  },
  {
   "cell_type": "code",
   "execution_count": 39,
   "id": "2c1f1efd-d7e1-48fb-a282-5c83b25c228d",
   "metadata": {},
   "outputs": [
    {
     "name": "stdout",
     "output_type": "stream",
     "text": [
      "Cantidad de NaN en edad: 278\n",
      "Cantidad de valores no saben/no responde (ahora NaN) por columna:\n",
      "CH04         0\n",
      "CH07        13\n",
      "CH08        20\n",
      "NIVEL_ED     0\n",
      "ESTADO       0\n",
      "CAT_INAC     0\n",
      "IPCF         1\n",
      "dtype: int64\n"
     ]
    }
   ],
   "source": [
    "print('Cantidad de NaN en edad:', data['CH06'].isna().sum())\n",
    "\n",
    "# Crear una copia de eph_combined solo con las columnas deseadas\n",
    "# pero saco edad porque se me va a mezclar la edad 9\n",
    "cols = ['CH04', 'CH07', 'CH08', 'NIVEL_ED', 'ESTADO', 'CAT_INAC', 'IPCF']\n",
    "data_nsnr = data[cols].copy()\n",
    "\n",
    "# Reemplazar los valores 9, 99, 999, y 9999 por NaN\n",
    "data_nsnr.replace([9, 99, 999, 9999], np.nan, inplace=True)\n",
    "\n",
    "# Mostrar un conteo de valores NaN en cada columna\n",
    "na_columna = data_nsnr.isna().sum()\n",
    "print(\"Cantidad de valores no saben/no responde (ahora NaN) por columna:\")\n",
    "print(na_columna)\n",
    "\n",
    "# DATOS FALTANTES: 278 en edad, 13 en estado civil, 20 en cobertura medica y 1 en ingreso per capita"
   ]
  },
  {
   "cell_type": "code",
   "execution_count": null,
   "id": "4cb2e606-ba39-4797-8644-b4b86d8ad4fd",
   "metadata": {},
   "outputs": [],
   "source": []
  }
 ],
 "metadata": {
  "kernelspec": {
   "display_name": "Python 3 (ipykernel)",
   "language": "python",
   "name": "python3"
  },
  "language_info": {
   "codemirror_mode": {
    "name": "ipython",
    "version": 3
   },
   "file_extension": ".py",
   "mimetype": "text/x-python",
   "name": "python",
   "nbconvert_exporter": "python",
   "pygments_lexer": "ipython3",
   "version": "3.9.19"
  }
 },
 "nbformat": 4,
 "nbformat_minor": 5
}
