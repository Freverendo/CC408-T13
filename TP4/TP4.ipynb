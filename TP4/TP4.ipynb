{
 "cells": [
  {
   "cell_type": "code",
   "execution_count": 3,
   "id": "05f27426-cf6e-48f4-bd8c-fd6e16829bfd",
   "metadata": {},
   "outputs": [],
   "source": [
    "#CARGAR LAS BASES DE DATOS\n",
    "import os\n",
    "import pandas as pd\n",
    "import numpy as np\n",
    "from pandas import DataFrame\n",
    "os.chdir('C:/Users/Nacha/OneDrive/Desktop/Anaconda/TP4')"
   ]
  },
  {
   "cell_type": "code",
   "execution_count": null,
   "id": "d39e3857-b816-4a73-b88f-cefb56b0aa16",
   "metadata": {},
   "outputs": [],
   "source": [
    "# PARTE 1 \n",
    "# EJERCICIO 2 \n",
    "ind_24 = pd.read_excel('usu_hogar_T124.xlsx')\n",
    "ind_04 = pd.read_stata('Hogar_t104.dta')"
   ]
  },
  {
   "cell_type": "code",
   "execution_count": null,
   "id": "0329bca4-bad0-4f79-9f22-d1f1fa8a0cf1",
   "metadata": {},
   "outputs": [],
   "source": [
    "# Cambiamos los nombres de las columnas a mayúsculas\n",
    "ind_04.columns = ind_04.columns.str.upper()\n",
    "ind_24.columns = ind_04.columns.str.upper()"
   ]
  },
  {
   "cell_type": "code",
   "execution_count": null,
   "id": "4b2c7090-aec9-4713-8962-df98c3cc68e1",
   "metadata": {},
   "outputs": [],
   "source": [
    "# Combinamos los dataframes\n",
    "# Dejamos los datos individuales que tengan solo de CABA y GBA\n",
    "ind_04_cleaned = ind_04.drop(data_04[~ind_04['AGLOMERADO'].isin(['Ciudad de Buenos Aires', 'Partidos del GBA'])].index)\n",
    "ind_04_cleaned = ind_04_cleaned.replace({'Ciudad de Buenos Aires': 'CABA', 'Partidos del GBA': 'GBA'})\n",
    "\n",
    "ind_24_cleaned = ind_24.drop(data_24[~ind_24['AGLOMERADO'].isin([32, 33])].index)\n",
    "ind_24_cleaned = ind_24_cleaned.replace({32: 'CABA', 33: 'GBA'})\n",
    "\n",
    "print(\"Datos 2004 después de filtrar:\", ind_04_cleaned.shape[0])\n",
    "print(\"Datos 2024 después de filtrar:\", ind_24_cleaned.shape[0])\n",
    "\n",
    "#Dejamos los datos de los hogares que tengan solo de CABA y GBA\n",
    "eph_04_cleaned = eph_04.drop(eph_04[~eph_04['AGLOMERADO'].isin([32, 33])].index)\n",
    "eph_04_cleaned = eph_04_cleaned.replace({32: 'CABA', 33: 'GBA'})\n",
    "\n",
    "eph_24_cleaned = eph_24.drop(eph_24[~eph_24['AGLOMERADO'].isin(['Ciudad de Buenos Aires', 'Partidos del GBA'])].index)\n",
    "eph_24_cleaned = eph_24_cleaned.replace({'Ciudad de Buenos Aires': 'CABA', 'Partidos del GBA': 'GBA'})"
   ]
  },
  {
   "cell_type": "code",
   "execution_count": null,
   "id": "66c724e6-2e32-4ed4-a497-764047228c54",
   "metadata": {},
   "outputs": [],
   "source": [
    "# Concatenamos dataframes ya filtrados\n",
    "data_combined = data_04_cleaned.merge(data_24_cleaned, on = ['CODUSU', 'NRO_HOGAR'])\n",
    "print('Columnas del dataframe combinado', data_combined.columns)\n",
    "data_combined.head()"
   ]
  }
 ],
 "metadata": {
  "kernelspec": {
   "display_name": "Python 3 (ipykernel)",
   "language": "python",
   "name": "python3"
  },
  "language_info": {
   "codemirror_mode": {
    "name": "ipython",
    "version": 3
   },
   "file_extension": ".py",
   "mimetype": "text/x-python",
   "name": "python",
   "nbconvert_exporter": "python",
   "pygments_lexer": "ipython3",
   "version": "3.9.19"
  }
 },
 "nbformat": 4,
 "nbformat_minor": 5
}
