{
 "cells": [
  {
   "cell_type": "code",
   "execution_count": 199,
   "id": "05f27426-cf6e-48f4-bd8c-fd6e16829bfd",
   "metadata": {},
   "outputs": [],
   "source": [
    "#CARGAR LAS BASES DE DATOS\n",
    "import os\n",
    "import pandas as pd\n",
    "import numpy as np\n",
    "from pandas import DataFrame\n",
    "#os.chdir('C:/Users/Nacha/OneDrive/Desktop/Anaconda/TP4')\n",
    "os.chdir('C:/Flor/UDESA/Primavera 2024/Ciencia de datos/TP4')"
   ]
  },
  {
   "cell_type": "markdown",
   "id": "a2173621",
   "metadata": {},
   "source": [
    "Parte I: Análisis de la base de hogares y tipo de ocupación"
   ]
  },
  {
   "cell_type": "markdown",
   "id": "6bcd05fe",
   "metadata": {},
   "source": [
    "## PUNTO 2:"
   ]
  },
  {
   "cell_type": "code",
   "execution_count": 200,
   "id": "d39e3857-b816-4a73-b88f-cefb56b0aa16",
   "metadata": {},
   "outputs": [],
   "source": [
    "hogar_24 = pd.read_excel('usu_hogar_T124.xlsx')\n",
    "hogar_04 = pd.read_stata('Hogar_t104.dta')\n",
    "eph_24 = pd.read_excel('usu_individual_T124.xlsx')\n",
    "eph_04 = pd.read_stata('Individual_t104.dta')"
   ]
  },
  {
   "cell_type": "code",
   "execution_count": 201,
   "id": "0329bca4-bad0-4f79-9f22-d1f1fa8a0cf1",
   "metadata": {},
   "outputs": [],
   "source": [
    "# Cambiamos los nombres de las columnas a mayúsculas\n",
    "hogar_04.columns = hogar_04.columns.str.upper()\n",
    "hogar_24.columns = hogar_24.columns.str.upper()\n",
    "eph_04.columns = eph_04.columns.str.upper()\n",
    "eph_24.columns = eph_24.columns.str.upper()"
   ]
  },
  {
   "cell_type": "markdown",
   "id": "454e27bb",
   "metadata": {},
   "source": [
    "Eliminamos las observaciones que no corresponden a CABA o al Gran Buenos Aires"
   ]
  },
  {
   "cell_type": "code",
   "execution_count": 202,
   "id": "4b2c7090-aec9-4713-8962-df98c3cc68e1",
   "metadata": {},
   "outputs": [
    {
     "name": "stdout",
     "output_type": "stream",
     "text": [
      "Datos hogares 2004 después de filtrar: 2351\n",
      "Datos hogares 2024 después de filtrar: 2545\n",
      "Datos individuales 2004 después de filtrar: 7647\n",
      "Datos individuales 2024 después de filtrar: 7051\n"
     ]
    },
    {
     "name": "stderr",
     "output_type": "stream",
     "text": [
      "C:\\Users\\flori\\AppData\\Local\\Temp\\ipykernel_9240\\4218672439.py:3: FutureWarning: The behavior of Series.replace (and DataFrame.replace) with CategoricalDtype is deprecated. In a future version, replace will only be used for cases that preserve the categories. To change the categories, use ser.cat.rename_categories instead.\n",
      "  eph_04_cleaned['AGLOMERADO'] = eph_04_cleaned['AGLOMERADO'].replace({'Ciudad de Buenos Aires': 'CABA', 'Partidos del GBA': 'GBA'})\n",
      "C:\\Users\\flori\\AppData\\Local\\Temp\\ipykernel_9240\\4218672439.py:11: FutureWarning: The behavior of Series.replace (and DataFrame.replace) with CategoricalDtype is deprecated. In a future version, replace will only be used for cases that preserve the categories. To change the categories, use ser.cat.rename_categories instead.\n",
      "  hogar_04_cleaned['AGLOMERADO'] = hogar_04_cleaned['AGLOMERADO'].replace({'Ciudad de Buenos Aires': 'CABA', 'Partidos del GBA': 'GBA'})\n"
     ]
    }
   ],
   "source": [
    "# Dejamos los datos individuales que tengan solo de CABA y GBA\n",
    "eph_04_cleaned = eph_04.loc[eph_04['AGLOMERADO'].isin(['Ciudad de Buenos Aires', 'Partidos del GBA'])].copy()\n",
    "eph_04_cleaned['AGLOMERADO'] = eph_04_cleaned['AGLOMERADO'].replace({'Ciudad de Buenos Aires': 'CABA', 'Partidos del GBA': 'GBA'})\n",
    "\n",
    "eph_24_cleaned = eph_24.loc[eph_24['AGLOMERADO'].isin([32, 33])].copy()\n",
    "eph_24_cleaned['AGLOMERADO'] = eph_24_cleaned['AGLOMERADO'].replace({32: 'CABA', 33: 'GBA'})\n",
    "\n",
    "\n",
    "#Dejamos los datos de los hogares que tengan solo de CABA y GBA\n",
    "hogar_04_cleaned = hogar_04.loc[hogar_04['AGLOMERADO'].isin(['Ciudad de Buenos Aires', 'Partidos del GBA'])].copy()\n",
    "hogar_04_cleaned['AGLOMERADO'] = hogar_04_cleaned['AGLOMERADO'].replace({'Ciudad de Buenos Aires': 'CABA', 'Partidos del GBA': 'GBA'})\n",
    "\n",
    "hogar_24_cleaned = hogar_24.loc[hogar_24['AGLOMERADO'].isin([32, 33])].copy()\n",
    "hogar_24_cleaned['AGLOMERADO'] = hogar_24_cleaned['AGLOMERADO'].replace({32: 'CABA', 33: 'GBA'})\n",
    "\n",
    "\n",
    "# Verificamos las dimensiones después del filtro\n",
    "print(\"Datos hogares 2004 después de filtrar:\", hogar_04_cleaned.shape[0])\n",
    "print(\"Datos hogares 2024 después de filtrar:\", hogar_24_cleaned.shape[0])\n",
    "print(\"Datos individuales 2004 después de filtrar:\", eph_04_cleaned.shape[0])\n",
    "print(\"Datos individuales 2024 después de filtrar:\", eph_24_cleaned.shape[0])"
   ]
  },
  {
   "cell_type": "code",
   "execution_count": 203,
   "id": "77bef96a",
   "metadata": {},
   "outputs": [
    {
     "name": "stdout",
     "output_type": "stream",
     "text": [
      "Valores nulos en eph_04:\n",
      "CODUSU       0\n",
      "NRO_HOGAR    0\n",
      "dtype: int64\n",
      "Valores nulos en hogar_04:\n",
      "CODUSU       0\n",
      "NRO_HOGAR    0\n",
      "dtype: int64\n",
      "Valores nulos en eph_24:\n",
      "CODUSU       0\n",
      "NRO_HOGAR    0\n",
      "dtype: int64\n",
      "Valores nulos en hogar_24:\n",
      "CODUSU       0\n",
      "NRO_HOGAR    0\n",
      "dtype: int64\n"
     ]
    }
   ],
   "source": [
    "# Aseguramos que CODUSU sea string y NRO_HOGAR sea numérico en todas las bases\n",
    "for df in [eph_04_cleaned, hogar_04_cleaned, eph_24_cleaned, hogar_24_cleaned]:\n",
    "    df['CODUSU'] = df['CODUSU'].astype(str)  # Convertimos CODUSU a string\n",
    "    df['NRO_HOGAR'] = df['NRO_HOGAR'].astype(int)  # Convertimos NRO_HOGAR a entero\n",
    "\n",
    "# Comprobamos si hay valores nulos en las claves\n",
    "for name, df in zip(['eph_04', 'hogar_04', 'eph_24', 'hogar_24'], \n",
    "                    [eph_04_cleaned, hogar_04_cleaned, eph_24_cleaned, hogar_24_cleaned]):\n",
    "    print(f\"Valores nulos en {name}:\")\n",
    "    print(df[['CODUSU', 'NRO_HOGAR']].isnull().sum())"
   ]
  },
  {
   "cell_type": "code",
   "execution_count": 204,
   "id": "b4e65d58",
   "metadata": {},
   "outputs": [
    {
     "name": "stderr",
     "output_type": "stream",
     "text": [
      "C:\\Users\\flori\\AppData\\Local\\Temp\\ipykernel_9240\\4102432337.py:2: FutureWarning: Downcasting behavior in `replace` is deprecated and will be removed in a future version. To retain the old behavior, explicitly call `result.infer_objects(copy=False)`. To opt-in to the future behavior, set `pd.set_option('future.no_silent_downcasting', True)`\n",
      "  eph_04_cleaned['CH04'] = eph_04_cleaned['CH04'].replace({'Varón': 1, 'Mujer': 2})\n",
      "C:\\Users\\flori\\AppData\\Local\\Temp\\ipykernel_9240\\4102432337.py:2: FutureWarning: The behavior of Series.replace (and DataFrame.replace) with CategoricalDtype is deprecated. In a future version, replace will only be used for cases that preserve the categories. To change the categories, use ser.cat.rename_categories instead.\n",
      "  eph_04_cleaned['CH04'] = eph_04_cleaned['CH04'].replace({'Varón': 1, 'Mujer': 2})\n",
      "C:\\Users\\flori\\AppData\\Local\\Temp\\ipykernel_9240\\4102432337.py:3: FutureWarning: The behavior of Series.replace (and DataFrame.replace) with CategoricalDtype is deprecated. In a future version, replace will only be used for cases that preserve the categories. To change the categories, use ser.cat.rename_categories instead.\n",
      "  eph_04_cleaned['CH07'] = eph_04_cleaned['CH07'].replace({'Unido': 1, 'Casado': 2, 'Separado o divorciado': 3, 'Viudo': 4, 'Soltero': 5})\n",
      "C:\\Users\\flori\\AppData\\Local\\Temp\\ipykernel_9240\\4102432337.py:4: FutureWarning: The behavior of Series.replace (and DataFrame.replace) with CategoricalDtype is deprecated. In a future version, replace will only be used for cases that preserve the categories. To change the categories, use ser.cat.rename_categories instead.\n",
      "  eph_04_cleaned['CH08'] = eph_04_cleaned['CH08'].replace({'Obra social (incluye PAMI)': 1, 'Mutual/Prepaga/Servicio de emergencia': 2, 'Planes y seguros públicos': 3, 'No paga ni le descuentan': 4, 'Ns./Nr.': 9,'Obra social y mutual/prepaga/servicio de emergencia': 12, 'Obra social y Planes y Seguros Públicos': 13, 'Mutual/prepaga/servicio de emergencia/planes y seguros públi': 23, 'Obra social, mutual / prepaga / servicio de emergencia y Planes y Seguros Públicos': 123})\n",
      "C:\\Users\\flori\\AppData\\Local\\Temp\\ipykernel_9240\\4102432337.py:5: FutureWarning: Downcasting behavior in `replace` is deprecated and will be removed in a future version. To retain the old behavior, explicitly call `result.infer_objects(copy=False)`. To opt-in to the future behavior, set `pd.set_option('future.no_silent_downcasting', True)`\n",
      "  eph_04_cleaned['NIVEL_ED'] = eph_04_cleaned['NIVEL_ED'].replace({'Primaria Incompleta (incluye educación especial)': 1, 'Primaria Completa': 2, 'Secundaria Incompleta': 3, 'Secundaria Completa': 4, 'Superior Universitaria Incompleta': 5, 'Superior Universitaria Completa':6, 'Sin instrucción': 7, 'Ns./Nr.':9})\n",
      "C:\\Users\\flori\\AppData\\Local\\Temp\\ipykernel_9240\\4102432337.py:5: FutureWarning: The behavior of Series.replace (and DataFrame.replace) with CategoricalDtype is deprecated. In a future version, replace will only be used for cases that preserve the categories. To change the categories, use ser.cat.rename_categories instead.\n",
      "  eph_04_cleaned['NIVEL_ED'] = eph_04_cleaned['NIVEL_ED'].replace({'Primaria Incompleta (incluye educación especial)': 1, 'Primaria Completa': 2, 'Secundaria Incompleta': 3, 'Secundaria Completa': 4, 'Superior Universitaria Incompleta': 5, 'Superior Universitaria Completa':6, 'Sin instrucción': 7, 'Ns./Nr.':9})\n",
      "C:\\Users\\flori\\AppData\\Local\\Temp\\ipykernel_9240\\4102432337.py:6: FutureWarning: Downcasting behavior in `replace` is deprecated and will be removed in a future version. To retain the old behavior, explicitly call `result.infer_objects(copy=False)`. To opt-in to the future behavior, set `pd.set_option('future.no_silent_downcasting', True)`\n",
      "  eph_04_cleaned['ESTADO'] = eph_04_cleaned['ESTADO'].replace({'Entrevista individual no realizada (no respuesta al cuestion': 0, 'Ocupado': 1, 'Desocupado': 2, 'Inactivo': 3, 'Menor de 10 años':4})\n",
      "C:\\Users\\flori\\AppData\\Local\\Temp\\ipykernel_9240\\4102432337.py:6: FutureWarning: The behavior of Series.replace (and DataFrame.replace) with CategoricalDtype is deprecated. In a future version, replace will only be used for cases that preserve the categories. To change the categories, use ser.cat.rename_categories instead.\n",
      "  eph_04_cleaned['ESTADO'] = eph_04_cleaned['ESTADO'].replace({'Entrevista individual no realizada (no respuesta al cuestion': 0, 'Ocupado': 1, 'Desocupado': 2, 'Inactivo': 3, 'Menor de 10 años':4})\n",
      "C:\\Users\\flori\\AppData\\Local\\Temp\\ipykernel_9240\\4102432337.py:7: FutureWarning: Downcasting behavior in `replace` is deprecated and will be removed in a future version. To retain the old behavior, explicitly call `result.infer_objects(copy=False)`. To opt-in to the future behavior, set `pd.set_option('future.no_silent_downcasting', True)`\n",
      "  eph_04_cleaned['CAT_INAC'] = eph_04_cleaned['CAT_INAC'].replace({'Jubilado/pensionado': 1, 'Rentista': 2, 'Estudiante': 3,'Ama de casa': 4, 'Menor de 6 años': 5, 'Discapacitado': 6, 'Otros':7})\n",
      "C:\\Users\\flori\\AppData\\Local\\Temp\\ipykernel_9240\\4102432337.py:7: FutureWarning: The behavior of Series.replace (and DataFrame.replace) with CategoricalDtype is deprecated. In a future version, replace will only be used for cases that preserve the categories. To change the categories, use ser.cat.rename_categories instead.\n",
      "  eph_04_cleaned['CAT_INAC'] = eph_04_cleaned['CAT_INAC'].replace({'Jubilado/pensionado': 1, 'Rentista': 2, 'Estudiante': 3,'Ama de casa': 4, 'Menor de 6 años': 5, 'Discapacitado': 6, 'Otros':7})\n"
     ]
    }
   ],
   "source": [
    "#Dejamos todos los datos relevantes (que usamos después) codificados de la misma forma\n",
    "eph_04_cleaned['CH04'] = eph_04_cleaned['CH04'].replace({'Varón': 1, 'Mujer': 2})\n",
    "eph_04_cleaned['CH07'] = eph_04_cleaned['CH07'].replace({'Unido': 1, 'Casado': 2, 'Separado o divorciado': 3, 'Viudo': 4, 'Soltero': 5})\n",
    "eph_04_cleaned['CH08'] = eph_04_cleaned['CH08'].replace({'Obra social (incluye PAMI)': 1, 'Mutual/Prepaga/Servicio de emergencia': 2, 'Planes y seguros públicos': 3, 'No paga ni le descuentan': 4, 'Ns./Nr.': 9,'Obra social y mutual/prepaga/servicio de emergencia': 12, 'Obra social y Planes y Seguros Públicos': 13, 'Mutual/prepaga/servicio de emergencia/planes y seguros públi': 23, 'Obra social, mutual / prepaga / servicio de emergencia y Planes y Seguros Públicos': 123}) \n",
    "eph_04_cleaned['NIVEL_ED'] = eph_04_cleaned['NIVEL_ED'].replace({'Primaria Incompleta (incluye educación especial)': 1, 'Primaria Completa': 2, 'Secundaria Incompleta': 3, 'Secundaria Completa': 4, 'Superior Universitaria Incompleta': 5, 'Superior Universitaria Completa':6, 'Sin instrucción': 7, 'Ns./Nr.':9})\n",
    "eph_04_cleaned['ESTADO'] = eph_04_cleaned['ESTADO'].replace({'Entrevista individual no realizada (no respuesta al cuestion': 0, 'Ocupado': 1, 'Desocupado': 2, 'Inactivo': 3, 'Menor de 10 años':4}) \n",
    "eph_04_cleaned['CAT_INAC'] = eph_04_cleaned['CAT_INAC'].replace({'Jubilado/pensionado': 1, 'Rentista': 2, 'Estudiante': 3,'Ama de casa': 4, 'Menor de 6 años': 5, 'Discapacitado': 6, 'Otros':7})"
   ]
  },
  {
   "cell_type": "code",
   "execution_count": 205,
   "id": "644d707e",
   "metadata": {},
   "outputs": [
    {
     "name": "stdout",
     "output_type": "stream",
     "text": [
      "Columnas en eph_04_cleaned: ['CODUSU', 'NRO_HOGAR', 'COMPONENTE', 'H15', 'ANO4', 'TRIMESTRE', 'REGION', 'MAS_500', 'AGLOMERADO', 'PONDERA', 'CH03', 'CH04', 'CH06', 'CH07', 'CH08', 'CH09', 'CH10', 'CH11', 'CH12', 'CH13', 'CH14', 'CH15', 'CH15_COD', 'CH16', 'CH16_COD', 'NIVEL_ED', 'ESTADO', 'CAT_OCUP', 'CAT_INAC', 'PP02C1', 'PP02C2', 'PP02C3', 'PP02C4', 'PP02C5', 'PP02C6', 'PP02C7', 'PP02C8', 'PP02E', 'PP02H', 'PP02I', 'PP03C', 'PP03D', 'PP3E_TOT', 'PP3F_TOT', 'PP03G', 'PP03H', 'PP03I', 'PP03J', 'INTENSI', 'PP04A', 'PP04B_COD', 'PP04B1', 'PP04B2', 'PP04B3_MES', 'PP04B3_ANO', 'PP04B3_DIA', 'PP04C', 'PP04C99', 'PP04D_COD', 'PP04G', 'PP05B2_MES', 'PP05B2_ANO', 'PP05B2_DIA', 'PP05C_1', 'PP05C_2', 'PP05C_3', 'PP05E', 'PP05F', 'PP05H', 'PP06A', 'PP06C', 'PP06D', 'PP06E', 'PP06H', 'PP07A', 'PP07C', 'PP07D', 'PP07E', 'PP07F1', 'PP07F2', 'PP07F3', 'PP07F4', 'PP07F5', 'PP07G1', 'PP07G2', 'PP07G3', 'PP07G4', 'PP07G_59', 'PP07H', 'PP07I', 'PP07J', 'PP07K', 'PP08D1', 'PP08D4', 'PP08F1', 'PP08F2', 'PP08J1', 'PP08J2', 'PP08J3', 'PP09A', 'PP09A_ESP', 'PP09B', 'PP09C', 'PP09C_ESP', 'PP10A', 'PP10C', 'PP10D', 'PP10E', 'PP11A', 'PP11B_COD', 'PP11B1', 'PP11B2_MES', 'PP11B2_ANO', 'PP11B2_DIA', 'PP11C', 'PP11C99', 'PP11D_COD', 'PP11G_ANO', 'PP11G_MES', 'PP11G_DIA', 'PP11L', 'PP11L1', 'PP11M', 'PP11N', 'PP11O', 'PP11P', 'PP11Q', 'PP11R', 'PP11S', 'PP11T', 'P21', 'DECOCUR', 'IDECOCUR', 'RDECOCUR', 'GDECOCUR', 'PDECOCUR', 'ADECOCUR', 'TOT_P12', 'P47T', 'DECINDR', 'IDECINDR', 'RDECINDR', 'GDECINDR', 'PDECINDR', 'ADECINDR', 'V2_M', 'V3_M', 'V4_M', 'V5_M', 'V8_M', 'V9_M', 'V10_M', 'V11_M', 'V12_M', 'V18_M', 'V19_AM', 'V21_M', 'T_VI', 'ITF', 'DECIFR', 'IDECIFR', 'RDECIFR', 'GDECIFR', 'PDECIFR', 'ADECIFR', 'IPCF', 'DECCFR', 'IDECCFR', 'RDECCFR', 'GDECCFR', 'PDECCFR', 'ADECCFR', 'PJ1_1', 'PJ2_1', 'PJ3_1', 'IDIMPP']\n",
      "Columnas en hogar_04_cleaned: ['CODUSU', 'NRO_HOGAR', 'REALIZADA', 'ANO4', 'TRIMESTRE', 'REGION', 'MAS_500', 'AGLOMERADO', 'PONDERA', 'IV1', 'IV1_ESP', 'IV2', 'IV3', 'IV3_ESP', 'IV4', 'IV5', 'IV6', 'IV7', 'IV7_ESP', 'IV8', 'IV9', 'IV10', 'IV11', 'IV12_1', 'IV12_2', 'IV12_3', 'II1', 'II2', 'II3', 'II3_1', 'II4_1', 'II4_2', 'II4_3', 'II5', 'II5_1', 'II6', 'II6_1', 'II7', 'II7_ESP', 'II8', 'II8_ESP', 'II9', 'V1', 'V2', 'V21', 'V22', 'V3', 'V4', 'V5', 'V6', 'V7', 'V8', 'V9', 'V10', 'V11', 'V12', 'V13', 'V14', 'V15', 'V16', 'V17', 'V18', 'V19_A', 'V19_B', 'IX_TOT', 'IX_MEN10', 'IX_MAYEQ10', 'ITF', 'DECIFR', 'IDECIFR', 'RDECIFR', 'GDECIFR', 'PDECIFR', 'ADECIFR', 'IPCF', 'DECCFR', 'IDECCFR', 'RDECCFR', 'GDECCFR', 'PDECCFR', 'ADECCFR', 'VII1_1', 'VII1_2', 'VII2_1', 'VII2_2', 'VII2_3', 'VII2_4', 'IDIMPH']\n"
     ]
    }
   ],
   "source": [
    "# Verificar columnas en las bases antes del merge\n",
    "print(\"Columnas en eph_04_cleaned:\", eph_04_cleaned.columns.tolist())\n",
    "print(\"Columnas en hogar_04_cleaned:\", hogar_04_cleaned.columns.tolist())\n"
   ]
  },
  {
   "cell_type": "markdown",
   "id": "59f0ebc0",
   "metadata": {},
   "source": [
    "Unimos la base de la encuesta individual con la encuesta de hogares"
   ]
  },
  {
   "cell_type": "code",
   "execution_count": 206,
   "id": "66c724e6-2e32-4ed4-a497-764047228c54",
   "metadata": {},
   "outputs": [
    {
     "name": "stdout",
     "output_type": "stream",
     "text": [
      "Datos combinados para 2004: (7647, 262)\n",
      "Datos combinados para 2024: (7051, 263)\n",
      "Datos finales combinados: (14698, 268)\n"
     ]
    }
   ],
   "source": [
    "# Merge para 2004\n",
    "data_2004 = eph_04_cleaned.merge(hogar_04_cleaned, on=['CODUSU', 'NRO_HOGAR'], how='inner')\n",
    "print(\"Datos combinados para 2004:\", data_2004.shape)\n",
    "\n",
    "# Merge para 2024\n",
    "data_2024 = eph_24_cleaned.merge(hogar_24_cleaned, on=['CODUSU', 'NRO_HOGAR'], how='inner')\n",
    "print(\"Datos combinados para 2024:\", data_2024.shape)\n",
    "\n",
    "# Combinamos los dos años\n",
    "data = pd.concat([data_2004, data_2024], ignore_index=True)\n",
    "print(\"Datos finales combinados:\", data.shape)\n",
    "\n"
   ]
  },
  {
   "cell_type": "code",
   "execution_count": 207,
   "id": "8d27047e",
   "metadata": {},
   "outputs": [
    {
     "name": "stdout",
     "output_type": "stream",
     "text": [
      "['CODUSU', 'NRO_HOGAR', 'COMPONENTE', 'H15', 'ANO4_x', 'TRIMESTRE_x', 'REGION_x', 'MAS_500_x', 'AGLOMERADO_x', 'PONDERA_x', 'CH03', 'CH04', 'CH06', 'CH07', 'CH08', 'CH09', 'CH10', 'CH11', 'CH12', 'CH13', 'CH14', 'CH15', 'CH15_COD', 'CH16', 'CH16_COD', 'NIVEL_ED', 'ESTADO', 'CAT_OCUP', 'CAT_INAC', 'PP02C1', 'PP02C2', 'PP02C3', 'PP02C4', 'PP02C5', 'PP02C6', 'PP02C7', 'PP02C8', 'PP02E', 'PP02H', 'PP02I', 'PP03C', 'PP03D', 'PP3E_TOT', 'PP3F_TOT', 'PP03G', 'PP03H', 'PP03I', 'PP03J', 'INTENSI', 'PP04A', 'PP04B_COD', 'PP04B1', 'PP04B2', 'PP04B3_MES', 'PP04B3_ANO', 'PP04B3_DIA', 'PP04C', 'PP04C99', 'PP04D_COD', 'PP04G', 'PP05B2_MES', 'PP05B2_ANO', 'PP05B2_DIA', 'PP05C_1', 'PP05C_2', 'PP05C_3', 'PP05E', 'PP05F', 'PP05H', 'PP06A', 'PP06C', 'PP06D', 'PP06E', 'PP06H', 'PP07A', 'PP07C', 'PP07D', 'PP07E', 'PP07F1', 'PP07F2', 'PP07F3', 'PP07F4', 'PP07F5', 'PP07G1', 'PP07G2', 'PP07G3', 'PP07G4', 'PP07G_59', 'PP07H', 'PP07I', 'PP07J', 'PP07K', 'PP08D1', 'PP08D4', 'PP08F1', 'PP08F2', 'PP08J1', 'PP08J2', 'PP08J3', 'PP09A', 'PP09A_ESP', 'PP09B', 'PP09C', 'PP09C_ESP', 'PP10A', 'PP10C', 'PP10D', 'PP10E', 'PP11A', 'PP11B_COD', 'PP11B1', 'PP11B2_MES', 'PP11B2_ANO', 'PP11B2_DIA', 'PP11C', 'PP11C99', 'PP11D_COD', 'PP11G_ANO', 'PP11G_MES', 'PP11G_DIA', 'PP11L', 'PP11L1', 'PP11M', 'PP11N', 'PP11O', 'PP11P', 'PP11Q', 'PP11R', 'PP11S', 'PP11T', 'P21', 'DECOCUR', 'IDECOCUR', 'RDECOCUR', 'GDECOCUR', 'PDECOCUR', 'ADECOCUR', 'TOT_P12', 'P47T', 'DECINDR', 'IDECINDR', 'RDECINDR', 'GDECINDR', 'PDECINDR', 'ADECINDR', 'V2_M', 'V3_M', 'V4_M', 'V5_M', 'V8_M', 'V9_M', 'V10_M', 'V11_M', 'V12_M', 'V18_M', 'V19_AM', 'V21_M', 'T_VI', 'ITF_x', 'DECIFR_x', 'IDECIFR_x', 'RDECIFR_x', 'GDECIFR_x', 'PDECIFR_x', 'ADECIFR_x', 'IPCF_x', 'DECCFR_x', 'IDECCFR_x', 'RDECCFR_x', 'GDECCFR_x', 'PDECCFR_x', 'ADECCFR_x', 'PJ1_1', 'PJ2_1', 'PJ3_1', 'IDIMPP', 'REALIZADA', 'ANO4_y', 'TRIMESTRE_y', 'REGION_y', 'MAS_500_y', 'AGLOMERADO_y', 'PONDERA_y', 'IV1', 'IV1_ESP', 'IV2', 'IV3', 'IV3_ESP', 'IV4', 'IV5', 'IV6', 'IV7', 'IV7_ESP', 'IV8', 'IV9', 'IV10', 'IV11', 'IV12_1', 'IV12_2', 'IV12_3', 'II1', 'II2', 'II3', 'II3_1', 'II4_1', 'II4_2', 'II4_3', 'II5', 'II5_1', 'II6', 'II6_1', 'II7', 'II7_ESP', 'II8', 'II8_ESP', 'II9', 'V1', 'V2', 'V21', 'V22', 'V3', 'V4', 'V5', 'V6', 'V7', 'V8', 'V9', 'V10', 'V11', 'V12', 'V13', 'V14', 'V15', 'V16', 'V17', 'V18', 'V19_A', 'V19_B', 'IX_TOT', 'IX_MEN10', 'IX_MAYEQ10', 'ITF_y', 'DECIFR_y', 'IDECIFR_y', 'RDECIFR_y', 'GDECIFR_y', 'PDECIFR_y', 'ADECIFR_y', 'IPCF_y', 'DECCFR_y', 'IDECCFR_y', 'RDECCFR_y', 'GDECCFR_y', 'PDECCFR_y', 'ADECCFR_y', 'VII1_1', 'VII1_2', 'VII2_1', 'VII2_2', 'VII2_3', 'VII2_4', 'IDIMPH', 'CH05', 'IMPUTA', 'PONDIIO', 'PONDII', 'PONDIH_x', 'PONDIH_y']\n"
     ]
    }
   ],
   "source": [
    "print(list(data.columns))"
   ]
  },
  {
   "cell_type": "code",
   "execution_count": 208,
   "id": "e32cc6b2",
   "metadata": {},
   "outputs": [
    {
     "name": "stderr",
     "output_type": "stream",
     "text": [
      "C:\\Users\\flori\\AppData\\Local\\Temp\\ipykernel_9240\\4017983586.py:13: PerformanceWarning: DataFrame is highly fragmented.  This is usually the result of calling `frame.insert` many times, which has poor performance.  Consider joining all columns at once using pd.concat(axis=1) instead. To get a de-fragmented frame, use `newframe = frame.copy()`\n",
      "  data[col.replace('_x', '')] = data[col].combine_first(data[col_y])\n",
      "C:\\Users\\flori\\AppData\\Local\\Temp\\ipykernel_9240\\4017983586.py:13: PerformanceWarning: DataFrame is highly fragmented.  This is usually the result of calling `frame.insert` many times, which has poor performance.  Consider joining all columns at once using pd.concat(axis=1) instead. To get a de-fragmented frame, use `newframe = frame.copy()`\n",
      "  data[col.replace('_x', '')] = data[col].combine_first(data[col_y])\n",
      "C:\\Users\\flori\\AppData\\Local\\Temp\\ipykernel_9240\\4017983586.py:13: PerformanceWarning: DataFrame is highly fragmented.  This is usually the result of calling `frame.insert` many times, which has poor performance.  Consider joining all columns at once using pd.concat(axis=1) instead. To get a de-fragmented frame, use `newframe = frame.copy()`\n",
      "  data[col.replace('_x', '')] = data[col].combine_first(data[col_y])\n",
      "C:\\Users\\flori\\AppData\\Local\\Temp\\ipykernel_9240\\4017983586.py:13: PerformanceWarning: DataFrame is highly fragmented.  This is usually the result of calling `frame.insert` many times, which has poor performance.  Consider joining all columns at once using pd.concat(axis=1) instead. To get a de-fragmented frame, use `newframe = frame.copy()`\n",
      "  data[col.replace('_x', '')] = data[col].combine_first(data[col_y])\n",
      "C:\\Users\\flori\\AppData\\Local\\Temp\\ipykernel_9240\\4017983586.py:13: PerformanceWarning: DataFrame is highly fragmented.  This is usually the result of calling `frame.insert` many times, which has poor performance.  Consider joining all columns at once using pd.concat(axis=1) instead. To get a de-fragmented frame, use `newframe = frame.copy()`\n",
      "  data[col.replace('_x', '')] = data[col].combine_first(data[col_y])\n",
      "C:\\Users\\flori\\AppData\\Local\\Temp\\ipykernel_9240\\4017983586.py:13: PerformanceWarning: DataFrame is highly fragmented.  This is usually the result of calling `frame.insert` many times, which has poor performance.  Consider joining all columns at once using pd.concat(axis=1) instead. To get a de-fragmented frame, use `newframe = frame.copy()`\n",
      "  data[col.replace('_x', '')] = data[col].combine_first(data[col_y])\n",
      "C:\\Users\\flori\\AppData\\Local\\Temp\\ipykernel_9240\\4017983586.py:13: PerformanceWarning: DataFrame is highly fragmented.  This is usually the result of calling `frame.insert` many times, which has poor performance.  Consider joining all columns at once using pd.concat(axis=1) instead. To get a de-fragmented frame, use `newframe = frame.copy()`\n",
      "  data[col.replace('_x', '')] = data[col].combine_first(data[col_y])\n",
      "C:\\Users\\flori\\AppData\\Local\\Temp\\ipykernel_9240\\4017983586.py:13: PerformanceWarning: DataFrame is highly fragmented.  This is usually the result of calling `frame.insert` many times, which has poor performance.  Consider joining all columns at once using pd.concat(axis=1) instead. To get a de-fragmented frame, use `newframe = frame.copy()`\n",
      "  data[col.replace('_x', '')] = data[col].combine_first(data[col_y])\n",
      "C:\\Users\\flori\\AppData\\Local\\Temp\\ipykernel_9240\\4017983586.py:13: PerformanceWarning: DataFrame is highly fragmented.  This is usually the result of calling `frame.insert` many times, which has poor performance.  Consider joining all columns at once using pd.concat(axis=1) instead. To get a de-fragmented frame, use `newframe = frame.copy()`\n",
      "  data[col.replace('_x', '')] = data[col].combine_first(data[col_y])\n",
      "C:\\Users\\flori\\AppData\\Local\\Temp\\ipykernel_9240\\4017983586.py:13: PerformanceWarning: DataFrame is highly fragmented.  This is usually the result of calling `frame.insert` many times, which has poor performance.  Consider joining all columns at once using pd.concat(axis=1) instead. To get a de-fragmented frame, use `newframe = frame.copy()`\n",
      "  data[col.replace('_x', '')] = data[col].combine_first(data[col_y])\n",
      "C:\\Users\\flori\\AppData\\Local\\Temp\\ipykernel_9240\\4017983586.py:13: PerformanceWarning: DataFrame is highly fragmented.  This is usually the result of calling `frame.insert` many times, which has poor performance.  Consider joining all columns at once using pd.concat(axis=1) instead. To get a de-fragmented frame, use `newframe = frame.copy()`\n",
      "  data[col.replace('_x', '')] = data[col].combine_first(data[col_y])\n",
      "C:\\Users\\flori\\AppData\\Local\\Temp\\ipykernel_9240\\4017983586.py:13: PerformanceWarning: DataFrame is highly fragmented.  This is usually the result of calling `frame.insert` many times, which has poor performance.  Consider joining all columns at once using pd.concat(axis=1) instead. To get a de-fragmented frame, use `newframe = frame.copy()`\n",
      "  data[col.replace('_x', '')] = data[col].combine_first(data[col_y])\n",
      "C:\\Users\\flori\\AppData\\Local\\Temp\\ipykernel_9240\\4017983586.py:13: PerformanceWarning: DataFrame is highly fragmented.  This is usually the result of calling `frame.insert` many times, which has poor performance.  Consider joining all columns at once using pd.concat(axis=1) instead. To get a de-fragmented frame, use `newframe = frame.copy()`\n",
      "  data[col.replace('_x', '')] = data[col].combine_first(data[col_y])\n",
      "C:\\Users\\flori\\AppData\\Local\\Temp\\ipykernel_9240\\4017983586.py:13: PerformanceWarning: DataFrame is highly fragmented.  This is usually the result of calling `frame.insert` many times, which has poor performance.  Consider joining all columns at once using pd.concat(axis=1) instead. To get a de-fragmented frame, use `newframe = frame.copy()`\n",
      "  data[col.replace('_x', '')] = data[col].combine_first(data[col_y])\n",
      "C:\\Users\\flori\\AppData\\Local\\Temp\\ipykernel_9240\\4017983586.py:13: PerformanceWarning: DataFrame is highly fragmented.  This is usually the result of calling `frame.insert` many times, which has poor performance.  Consider joining all columns at once using pd.concat(axis=1) instead. To get a de-fragmented frame, use `newframe = frame.copy()`\n",
      "  data[col.replace('_x', '')] = data[col].combine_first(data[col_y])\n",
      "C:\\Users\\flori\\AppData\\Local\\Temp\\ipykernel_9240\\4017983586.py:13: PerformanceWarning: DataFrame is highly fragmented.  This is usually the result of calling `frame.insert` many times, which has poor performance.  Consider joining all columns at once using pd.concat(axis=1) instead. To get a de-fragmented frame, use `newframe = frame.copy()`\n",
      "  data[col.replace('_x', '')] = data[col].combine_first(data[col_y])\n",
      "C:\\Users\\flori\\AppData\\Local\\Temp\\ipykernel_9240\\4017983586.py:13: PerformanceWarning: DataFrame is highly fragmented.  This is usually the result of calling `frame.insert` many times, which has poor performance.  Consider joining all columns at once using pd.concat(axis=1) instead. To get a de-fragmented frame, use `newframe = frame.copy()`\n",
      "  data[col.replace('_x', '')] = data[col].combine_first(data[col_y])\n",
      "C:\\Users\\flori\\AppData\\Local\\Temp\\ipykernel_9240\\4017983586.py:13: PerformanceWarning: DataFrame is highly fragmented.  This is usually the result of calling `frame.insert` many times, which has poor performance.  Consider joining all columns at once using pd.concat(axis=1) instead. To get a de-fragmented frame, use `newframe = frame.copy()`\n",
      "  data[col.replace('_x', '')] = data[col].combine_first(data[col_y])\n",
      "C:\\Users\\flori\\AppData\\Local\\Temp\\ipykernel_9240\\4017983586.py:13: PerformanceWarning: DataFrame is highly fragmented.  This is usually the result of calling `frame.insert` many times, which has poor performance.  Consider joining all columns at once using pd.concat(axis=1) instead. To get a de-fragmented frame, use `newframe = frame.copy()`\n",
      "  data[col.replace('_x', '')] = data[col].combine_first(data[col_y])\n",
      "C:\\Users\\flori\\AppData\\Local\\Temp\\ipykernel_9240\\4017983586.py:13: PerformanceWarning: DataFrame is highly fragmented.  This is usually the result of calling `frame.insert` many times, which has poor performance.  Consider joining all columns at once using pd.concat(axis=1) instead. To get a de-fragmented frame, use `newframe = frame.copy()`\n",
      "  data[col.replace('_x', '')] = data[col].combine_first(data[col_y])\n",
      "C:\\Users\\flori\\AppData\\Local\\Temp\\ipykernel_9240\\4017983586.py:13: PerformanceWarning: DataFrame is highly fragmented.  This is usually the result of calling `frame.insert` many times, which has poor performance.  Consider joining all columns at once using pd.concat(axis=1) instead. To get a de-fragmented frame, use `newframe = frame.copy()`\n",
      "  data[col.replace('_x', '')] = data[col].combine_first(data[col_y])\n"
     ]
    }
   ],
   "source": [
    "#Como vemos que algunas columnas se crearonn dobles, hacemos arreglos para que sean una sola\n",
    "# Creamos una lista para las nuevas columnas combinadas\n",
    "combined_columns = []\n",
    "\n",
    "# Identificamos las columnas que tienen sufijos '_x'\n",
    "columns_to_merge = [col for col in data.columns if col.endswith('_x')]\n",
    "\n",
    "# Iteramos sobre las columnas y combinarlas\n",
    "for col in columns_to_merge:\n",
    "    col_y = col.replace('_x', '_y')\n",
    "    \n",
    "    # Combinamos las columnas (dando prioridad a los valores de '_x')\n",
    "    data[col.replace('_x', '')] = data[col].combine_first(data[col_y])\n",
    "    \n",
    "    # Añadimos las columnas combinadas a la lista\n",
    "    combined_columns.append(col.replace('_x', ''))\n",
    "\n",
    "# Eliminamos las columnas duplicadas\n",
    "data.drop([col for col in data.columns if col.endswith('_x') or col.endswith('_y')], axis=1, inplace=True)"
   ]
  },
  {
   "cell_type": "code",
   "execution_count": 209,
   "id": "f4d497ee",
   "metadata": {},
   "outputs": [],
   "source": [
    "# Estamos creando esta copia por la advertencia de la línea anterior\n",
    "final_data = data.copy()"
   ]
  },
  {
   "cell_type": "markdown",
   "id": "c5de1a62",
   "metadata": {},
   "source": [
    "## PUNTO 3:"
   ]
  },
  {
   "cell_type": "code",
   "execution_count": 220,
   "id": "60cd6ac8-028e-453a-9c23-063d9964b309",
   "metadata": {},
   "outputs": [
    {
     "name": "stdout",
     "output_type": "stream",
     "text": [
      "Cantidad de datos después de la limpieza: 13701\n"
     ]
    }
   ],
   "source": [
    "# Eliminamos las observaciones con datos que no tienen sentido \n",
    "# CH06: edad\n",
    "# PP03D: cantidad de ocupaciones \n",
    "# PP08D1: Monto por sueldos / jornales, salario familiar, horas extras, otras bonificaciones habituales y tickets, vales o similares percibidos en el mes de referencia \n",
    "# P21: MONTO DE INGRESO DE LA OCUPACIÓN PRINCIPAL \n",
    "# IPCF: ingreso per cápita familiar\n",
    "# IX_TOT: cantidad de personas en un hogar\n",
    "# Convertimos las columnas relevantes a tipo numérico\n",
    "cols_to_convert = ['CH06', 'PP03D', 'PP08D1', 'P21','IPCF', 'IX_TOT', 'CAT_INAC']\n",
    "final_data[cols_to_convert] = final_data[cols_to_convert].apply(pd.to_numeric, errors='coerce')\n",
    "\n",
    "# Eliminamos las observaciones con datos que no tienen sentido \n",
    "final_data.drop(final_data[(final_data['CH06'] < 0) | (final_data['PP03D'] < 0) | (final_data['PP08D1'] < 0) | (final_data['P21'] < 0)| (final_data['IPCF'] < 0)| (final_data['IX_TOT'] < 0)| (final_data['CAT_INAC'] < 0)].index, inplace=True)\n",
    "\n",
    "# Imprimimos la cantidad de datos restantes después de la limpieza\n",
    "print(\"Cantidad de datos después de la limpieza:\", len(final_data))"
   ]
  },
  {
   "cell_type": "code",
   "execution_count": 221,
   "id": "2c1f1efd-d7e1-48fb-a282-5c83b25c228d",
   "metadata": {},
   "outputs": [
    {
     "name": "stdout",
     "output_type": "stream",
     "text": [
      "Cantidad de NaN en edad: 0\n",
      "Cantidad de valores no saben/no responde (ahora NaN) por columna:\n",
      "CH04          0\n",
      "CH07         13\n",
      "CH08         31\n",
      "NIVEL_ED      0\n",
      "ESTADO        0\n",
      "CAT_INAC      0\n",
      "IPCF          1\n",
      "IX_TOT      230\n",
      "dtype: int64\n"
     ]
    },
    {
     "name": "stderr",
     "output_type": "stream",
     "text": [
      "C:\\Users\\flori\\AppData\\Local\\Temp\\ipykernel_9240\\1251624085.py:9: FutureWarning: Downcasting behavior in `replace` is deprecated and will be removed in a future version. To retain the old behavior, explicitly call `result.infer_objects(copy=False)`. To opt-in to the future behavior, set `pd.set_option('future.no_silent_downcasting', True)`\n",
      "  data_nsnr.replace([9, 99, 999, 9999], np.nan, inplace=True)\n"
     ]
    }
   ],
   "source": [
    "print('Cantidad de NaN en edad:', final_data['CH06'].isna().sum())\n",
    "\n",
    "# Crearmos una copia de final_data solo con las columnas deseadas\n",
    "# pero saco edad porque se me va a mezclar la edad 9\n",
    "cols = ['CH04', 'CH07', 'CH08', 'NIVEL_ED', 'ESTADO', 'CAT_INAC', 'IPCF', 'IX_TOT']\n",
    "data_nsnr = final_data[cols].copy()\n",
    "\n",
    "# Reemplazar los valores 9, 99, 999, y 9999 por NaN\n",
    "data_nsnr.replace([9, 99, 999, 9999], np.nan, inplace=True)\n",
    "\n",
    "# Mostrar un conteo de valores NaN en cada columna\n",
    "na_columna = data_nsnr.isna().sum()\n",
    "print(\"Cantidad de valores no saben/no responde (ahora NaN) por columna:\")\n",
    "print(na_columna)"
   ]
  },
  {
   "cell_type": "markdown",
   "id": "b14e9536",
   "metadata": {},
   "source": [
    "DATOS FALTANTES: 135 en edad, 13 en estado civil (CH07), 20 en cobertura medica (CH08), 1 en ingreso per capita familiar Y 230 en IX_TOT"
   ]
  },
  {
   "cell_type": "code",
   "execution_count": 222,
   "id": "4cb2e606-ba39-4797-8644-b4b86d8ad4fd",
   "metadata": {},
   "outputs": [
    {
     "name": "stdout",
     "output_type": "stream",
     "text": [
      "Cantidad de NaN en la columna CH06 después del relleno: 0\n"
     ]
    }
   ],
   "source": [
    "# Hacemos que la columna 'CH06' sea numérica\n",
    "final_data.loc[:, 'CH06'] = pd.to_numeric(final_data['CH06'], errors='coerce')\n",
    "\n",
    "# Calculamos la mediana de la edad por nivel educativo\n",
    "edad_por_nivel = final_data.groupby('NIVEL_ED')['CH06'].median()\n",
    "\n",
    "# Definimos una función para rellenar NaN basándose en el nivel educativo\n",
    "def rellenar_nan_edad(row):\n",
    "    if pd.isna(row['CH06']): # Si 'CH06' es NaN, devolver la mediana correspondiente del nivel educativo\n",
    "        return edad_por_nivel.get(row['NIVEL_ED'], row['CH06'])\n",
    "    return row['CH06']\n",
    "\n",
    "# Aplicamps la función para rellenar los NaN en 'CH06'\n",
    "final_data.loc[:, 'CH06'] = final_data.apply(rellenar_nan_edad, axis=1)\n",
    "\n",
    "# Verificamos que ya no quede ningún NaN\n",
    "nan_after = final_data['CH06'].isna().sum()\n",
    "print(f\"Cantidad de NaN en la columna CH06 después del relleno: {nan_after}\")\n"
   ]
  },
  {
   "cell_type": "code",
   "execution_count": 223,
   "id": "70a05be4",
   "metadata": {},
   "outputs": [
    {
     "name": "stdout",
     "output_type": "stream",
     "text": [
      "Cantidad de NaN en la columna CH07 después del relleno: 0\n",
      "Cantidad de NaN en la columna CH08 después del relleno: 0\n",
      "Cantidad de NaN en la columna IPCF después del relleno: 0\n",
      "Cantidad de NaN en la columna IX_TOT después del relleno: 0\n"
     ]
    }
   ],
   "source": [
    "# Eliminamos los NaN de las que le faltaban pocos datos de la base original\n",
    "col_nan = ['CH07', 'CH08', 'IPCF','IX_TOT'] \n",
    "final_data = final_data.dropna(subset=col_nan)\n",
    "\n",
    "# Verificamos\n",
    "nan_after7 = final_data['CH07'].isna().sum()\n",
    "nan_after8 = final_data['CH08'].isna().sum()\n",
    "nan_afterIPCF = final_data['IPCF'].isna().sum()\n",
    "nan_afterIX_TOT = final_data['IX_TOT'].isna().sum()\n",
    "print(f\"Cantidad de NaN en la columna CH07 después del relleno: {nan_after7}\")\n",
    "print(f\"Cantidad de NaN en la columna CH08 después del relleno: {nan_after8}\")\n",
    "print(f\"Cantidad de NaN en la columna IPCF después del relleno: {nan_afterIPCF}\")\n",
    "print(f\"Cantidad de NaN en la columna IX_TOT después del relleno: {nan_afterIX_TOT}\")"
   ]
  },
  {
   "cell_type": "markdown",
   "id": "d184f509",
   "metadata": {},
   "source": [
    "## Punto 4:"
   ]
  },
  {
   "cell_type": "markdown",
   "id": "e938ec9b",
   "metadata": {},
   "source": [
    "3 variables relevantes para predecir individuos desocupados"
   ]
  },
  {
   "cell_type": "markdown",
   "id": "9769e8fd",
   "metadata": {},
   "source": [
    "Variable 1: proporción de personas que trabajan en el hogar"
   ]
  },
  {
   "cell_type": "code",
   "execution_count": 215,
   "id": "9de8aebf",
   "metadata": {},
   "outputs": [
    {
     "name": "stdout",
     "output_type": "stream",
     "text": [
      "     CODUSU  NRO_HOGAR  CANT_OCUPADOS  IX_TOT  PROP_OCUPADOS\n",
      "0  125098            1              0     1.0           0.00\n",
      "1  125397            1              1     1.0           1.00\n",
      "2  125515            1              0     1.0           0.00\n",
      "3  125558            1              3     4.0           0.75\n",
      "4  125558            1              3     4.0           0.75\n"
     ]
    }
   ],
   "source": [
    "# Crear la variable OCUPADO\n",
    "final_data['OCUPADO'] = final_data['ESTADO'].apply(lambda x: 1 if x == 1 else 0)\n",
    "\n",
    "# Calcular cantidad de ocupados por hogar\n",
    "final_data['CANT_OCUPADOS'] = final_data.groupby(['CODUSU', 'NRO_HOGAR'])['OCUPADO'].transform('sum')\n",
    "\n",
    "# Calcular proporción de ocupados\n",
    "final_data['PROP_OCUPADOS'] = final_data['CANT_OCUPADOS'] / final_data['IX_TOT']\n",
    "\n",
    "# Revisar el resultado\n",
    "print(final_data[['CODUSU', 'NRO_HOGAR', 'CANT_OCUPADOS', 'IX_TOT', 'PROP_OCUPADOS']].head())"
   ]
  },
  {
   "cell_type": "markdown",
   "id": "96f0e3f2",
   "metadata": {},
   "source": [
    "Variable 2: Proporción de menores de edad en el hogar"
   ]
  },
  {
   "cell_type": "code",
   "execution_count": 216,
   "id": "1745acaf",
   "metadata": {},
   "outputs": [
    {
     "name": "stdout",
     "output_type": "stream",
     "text": [
      "     CODUSU  NRO_HOGAR  CANT_MENORES  IX_TOT  PROP_MENORES\n",
      "0  125098            1             0     1.0           0.0\n",
      "1  125397            1             0     1.0           0.0\n",
      "2  125515            1             0     1.0           0.0\n",
      "3  125558            1             0     4.0           0.0\n",
      "4  125558            1             0     4.0           0.0\n"
     ]
    }
   ],
   "source": [
    "# Crear columna indicando si es menor de edad\n",
    "final_data['MENOR'] = final_data['CH06'].apply(lambda x: 1 if x < 18 else 0)\n",
    "\n",
    "# Calcular cantidad de menores por hogar\n",
    "final_data['CANT_MENORES'] = final_data.groupby(['CODUSU', 'NRO_HOGAR'])['MENOR'].transform('sum')\n",
    "\n",
    "# Calcular proporción de menores en el hogar\n",
    "final_data['PROP_MENORES'] = final_data['CANT_MENORES'] / final_data['IX_TOT']\n",
    "\n",
    "# Visualizar la variable\n",
    "print(final_data[['CODUSU', 'NRO_HOGAR', 'CANT_MENORES', 'IX_TOT', 'PROP_MENORES']].head())"
   ]
  },
  {
   "cell_type": "markdown",
   "id": "4e5829f8",
   "metadata": {},
   "source": [
    "Variable 3: Dependencia económica del hogar. Esta calcula la proporción de habitantes inactivos vs activos"
   ]
  },
  {
   "cell_type": "code",
   "execution_count": 217,
   "id": "f182bc00",
   "metadata": {},
   "outputs": [
    {
     "name": "stdout",
     "output_type": "stream",
     "text": [
      "     CODUSU  NRO_HOGAR  CANT_INACTIVOS  CANT_ACTIVOS  DEPENDENCIA_ECONOMICA\n",
      "0  125098            1               1             1                    0.5\n",
      "1  125397            1               1             1                    0.5\n",
      "2  125515            1               1             1                    0.5\n",
      "3  125558            1               4             4                    0.8\n",
      "4  125558            1               4             4                    0.8\n"
     ]
    }
   ],
   "source": [
    "# Crear columnas para identificar inactivos y activos\n",
    "final_data['INACTIVO'] = final_data['CAT_INAC'].apply(lambda x: 1 if not pd.isna(x) else 0)\n",
    "final_data['ACTIVO'] = final_data['CAT_OCUP'].apply(lambda x: 1 if not pd.isna(x) else 0)\n",
    "\n",
    "# Calcular total de inactivos y activos por hogar\n",
    "final_data['CANT_INACTIVOS'] = final_data.groupby(['CODUSU', 'NRO_HOGAR'])['INACTIVO'].transform('sum')\n",
    "final_data['CANT_ACTIVOS'] = final_data.groupby(['CODUSU', 'NRO_HOGAR'])['ACTIVO'].transform('sum')\n",
    "\n",
    "# Calcular relación de dependencia económica\n",
    "final_data['DEPENDENCIA_ECONOMICA'] = final_data['CANT_INACTIVOS'] / (final_data['CANT_ACTIVOS'] + 1)  # +1 para evitar división por 0\n",
    "\n",
    "# Visualizar la variable\n",
    "print(final_data[['CODUSU', 'NRO_HOGAR', 'CANT_INACTIVOS', 'CANT_ACTIVOS', 'DEPENDENCIA_ECONOMICA']].head())"
   ]
  },
  {
   "cell_type": "markdown",
   "id": "d3e91795",
   "metadata": {},
   "source": [
    "Variable 4: Nivel educativo promedio"
   ]
  },
  {
   "cell_type": "code",
   "execution_count": 218,
   "id": "977e37a0",
   "metadata": {},
   "outputs": [
    {
     "name": "stdout",
     "output_type": "stream",
     "text": [
      "     CODUSU  NRO_HOGAR  NIVEL_ED_NUM  EDUC_PROMEDIO\n",
      "0  125098            1             3            3.0\n",
      "1  125397            1             2            2.0\n",
      "2  125515            1             2            2.0\n",
      "3  125558            1             2            4.5\n",
      "7  125599            1             4            3.2\n"
     ]
    }
   ],
   "source": [
    "# Convertir niveles educativos en valores numéricos (si no lo están ya)\n",
    "niveles_educativos = {\n",
    "    'Sin instrucción': 0,\n",
    "    'Primaria Incompleta': 1,\n",
    "    'Primaria Completa': 2,\n",
    "    'Secundaria Incompleta': 3,\n",
    "    'Secundaria Completa': 4,\n",
    "    'Superior Universitaria Incompleta': 5,\n",
    "    'Superior Universitaria Completa': 6,\n",
    "    'Ns./Nr.': None  # O manejarlo como 0 si prefieres\n",
    "}\n",
    "\n",
    "final_data['NIVEL_ED_NUM'] = final_data['NIVEL_ED'].replace(niveles_educativos)\n",
    "\n",
    "# Calcular promedio educativo por hogar\n",
    "final_data['EDUC_PROMEDIO'] = final_data.groupby(['CODUSU', 'NRO_HOGAR'])['NIVEL_ED_NUM'].transform('mean')\n",
    "\n",
    "# Visualizar la variable\n",
    "print(final_data[['CODUSU', 'NRO_HOGAR', 'NIVEL_ED_NUM', 'EDUC_PROMEDIO']].drop_duplicates(subset=['CODUSU', 'NRO_HOGAR']).head())"
   ]
  },
  {
   "cell_type": "markdown",
   "id": "89fcd946",
   "metadata": {},
   "source": [
    "## Punto 5:"
   ]
  },
  {
   "cell_type": "markdown",
   "id": "8c5c4521",
   "metadata": {},
   "source": [
    "Estadísitca descriptiva de 3 variables de la encuesta"
   ]
  },
  {
   "cell_type": "code",
   "execution_count": 224,
   "id": "7fafd794",
   "metadata": {},
   "outputs": [
    {
     "name": "stdout",
     "output_type": "stream",
     "text": [
      "Estadísticas descriptivas de la edad (CH06):\n",
      "count    13701.000000\n",
      "mean        35.266550\n",
      "std         23.137095\n",
      "min          1.000000\n",
      "25%         16.000000\n",
      "50%         32.000000\n",
      "75%         53.000000\n",
      "max         97.000000\n",
      "Name: CH06, dtype: float64\n",
      "\n",
      "Frecuencias y proporciones de NIVEL_ED:\n",
      "NIVEL_ED\n",
      "3    2661\n",
      "4    2369\n",
      "2    2285\n",
      "1    2254\n",
      "6    1500\n",
      "5    1460\n",
      "7    1172\n",
      "Name: count, dtype: int64\n",
      "NIVEL_ED\n",
      "3    19.421940\n",
      "4    17.290709\n",
      "2    16.677615\n",
      "1    16.451354\n",
      "6    10.948106\n",
      "5    10.656156\n",
      "7     8.554120\n",
      "Name: proportion, dtype: float64\n",
      "\n",
      "Frecuencias y proporciones de CAT_INAC:\n",
      "CAT_INAC\n",
      "0.0    6247\n",
      "3.0    3034\n",
      "4.0    1469\n",
      "1.0    1385\n",
      "5.0    1114\n",
      "7.0     320\n",
      "6.0     100\n",
      "2.0      32\n",
      "Name: count, dtype: int64\n",
      "CAT_INAC\n",
      "0.0    45.595212\n",
      "3.0    22.144369\n",
      "4.0    10.721845\n",
      "1.0    10.108751\n",
      "5.0     8.130793\n",
      "7.0     2.335596\n",
      "6.0     0.729874\n",
      "2.0     0.233560\n",
      "Name: proportion, dtype: float64\n"
     ]
    },
    {
     "data": {
      "image/png": "[encoded data removed]",
      "text/plain": [
       "<Figure size 800x400 with 1 Axes>"
      ]
     },
     "metadata": {},
     "output_type": "display_data"
    },
    {
     "data": {
      "image/png": "[encoded data removed]",
      "text/plain": [
       "<Figure size 800x400 with 1 Axes>"
      ]
     },
     "metadata": {},
     "output_type": "display_data"
    }
   ],
   "source": [
    "import matplotlib.pyplot as plt\n",
    "\n",
    "# --- 1. Estadísticas descriptivas de CH06 (Edad) ---\n",
    "print(\"Estadísticas descriptivas de la edad (CH06):\")\n",
    "print(final_data['CH06'].describe())\n",
    "\n",
    "# --- 2. Frecuencias y proporciones de NIVEL_ED ---\n",
    "print(\"\\nFrecuencias y proporciones de NIVEL_ED:\")\n",
    "nivel_ed_frecuencias = final_data['NIVEL_ED'].value_counts()\n",
    "nivel_ed_proporciones = final_data['NIVEL_ED'].value_counts(normalize=True) * 100\n",
    "print(nivel_ed_frecuencias)\n",
    "print(nivel_ed_proporciones)\n",
    "\n",
    "# --- 3. Frecuencias y proporciones de CAT_INAC ---\n",
    "print(\"\\nFrecuencias y proporciones de CAT_INAC:\")\n",
    "cat_inac_frecuencias = final_data['CAT_INAC'].value_counts()\n",
    "cat_inac_proporciones = final_data['CAT_INAC'].value_counts(normalize=True) * 100\n",
    "print(cat_inac_frecuencias)\n",
    "print(cat_inac_proporciones)\n",
    "\n",
    "# --- Graficar distribuciones ---\n",
    "# NIVEL_ED\n",
    "plt.figure(figsize=(8, 4))\n",
    "nivel_ed_frecuencias.plot(kind='bar', color='skyblue', title='Distribución de Nivel Educativo')\n",
    "plt.ylabel('Frecuencia')\n",
    "plt.xlabel('Nivel Educativo')\n",
    "plt.xticks(rotation=45)\n",
    "plt.tight_layout()\n",
    "plt.show()\n",
    "\n",
    "# CAT_INAC\n",
    "plt.figure(figsize=(8, 4))\n",
    "cat_inac_frecuencias.plot(kind='bar', color='salmon', title='Distribución de Categoría de Inactividad')\n",
    "plt.ylabel('Frecuencia')\n",
    "plt.xlabel('Categoría de Inactividad')\n",
    "plt.xticks(rotation=45)\n",
    "plt.tight_layout()\n",
    "plt.show()"
   ]
  }
 ],
 "metadata": {
  "kernelspec": {
   "display_name": "Python 3",
   "language": "python",
   "name": "python3"
  },
  "language_info": {
   "codemirror_mode": {
    "name": "ipython",
    "version": 3
   },
   "file_extension": ".py",
   "mimetype": "text/x-python",
   "name": "python",
   "nbconvert_exporter": "python",
   "pygments_lexer": "ipython3",
   "version": "3.11.9"
  }
 },
 "nbformat": 4,
 "nbformat_minor": 5
}
