{
 "cells": [
  {
   "cell_type": "code",
   "execution_count": null,
   "id": "05f27426-cf6e-48f4-bd8c-fd6e16829bfd",
   "metadata": {},
   "outputs": [],
   "source": [
    "import os\n",
    "import pandas as pd\n",
    "import matplotlib as plt\n",
    "\n",
    "#CARGAR LAS BASES DE DATOS\n",
    "os.chdir('/Users/trinimoran/Documents/Ciencia de Datos/CC408-T13/TP3')\n",
    "\n",
    "#CAMBIEN ACA SUS CAMINOS\n",
    "#os.chdir('C:/Users/Nacha/OneDrive/Desktop/Anaconda')\n",
    "#os.chdir('c:/Flor/UDESA/Primavera 2024/Ciencia de datos/TP2/TP2')"
   ]
  },
  {
   "cell_type": "code",
   "execution_count": null,
   "id": "d39e3857-b816-4a73-b88f-cefb56b0aa16",
   "metadata": {},
   "outputs": [],
   "source": [
    "# PARTE 1 \n",
    "# EJERCICIO 2 \n",
    "\n",
    "# A) Eliminen todas las observaciones que no corresponden a los aglomerados de Ciudad Autónoma de Buenos Aires o Gran Buenos Aires\n",
    "# y unan ambos trimestres en una sola base"
   ]
  }
 ],
 "metadata": {
  "kernelspec": {
   "display_name": "Python 3 (ipykernel)",
   "language": "python",
   "name": "python3"
  },
  "language_info": {
   "codemirror_mode": {
    "name": "ipython",
    "version": 3
   },
   "file_extension": ".py",
   "mimetype": "text/x-python",
   "name": "python",
   "nbconvert_exporter": "python",
   "pygments_lexer": "ipython3",
   "version": "3.12.4"
  }
 },
 "nbformat": 4,
 "nbformat_minor": 5
}
